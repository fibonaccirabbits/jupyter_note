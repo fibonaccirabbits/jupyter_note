{
 "cells": [
  {
   "cell_type": "code",
   "execution_count": null,
   "metadata": {},
   "outputs": [],
   "source": [
    "# process abdb dataset"
   ]
  },
  {
   "cell_type": "code",
   "execution_count": 2,
   "metadata": {},
   "outputs": [],
   "source": [
    "# import stuff\n",
    "import find_files\n",
    "import numpy as np\n",
    "import sys\n",
    "import seaborn as sns\n",
    "from matplotlib import pyplot as plt\n",
    "import os\n",
    "import pandas as pd\n",
    "\n",
    "# set general style for plots\n",
    "sns.set(style='ticks', palette = 'pastel')"
   ]
  },
  {
   "cell_type": "code",
   "execution_count": null,
   "metadata": {},
   "outputs": [],
   "source": [
    "def view_temp():\n",
    "\t'''\n",
    "\tView temporary plot\n",
    "\t'''\n",
    "\tsns.despine()\n",
    "\ttemppdf = 'abdb_figures/temp.pdf'\n",
    "\tplt.savefig(temppdf)\n",
    "\tos.system('open %s' % temppdf)"
   ]
  },
  {
   "cell_type": "code",
   "execution_count": null,
   "metadata": {},
   "outputs": [],
   "source": [
    "def get_single_antigens():\n",
    "\t'''\n",
    "\tGet files with single antigen\n",
    "\t'''\n",
    "\tfile_paths = find_files.find_files('../datasets','.pdb')\n",
    "\tseqres_index = []\n",
    "\tsingles = []\n",
    "\tfor fp in file_paths:\n",
    "\t\tcontents = open(fp).read().splitlines()\n",
    "\t\tfor i, line in enumerate(contents):\n",
    "\t\t\tif line.startswith('SEQRES'):\n",
    "\t\t\t\tseqres_index.append(i)\n",
    "\t\t\t\tif i <= 16:\n",
    "\t\t\t\t\tsingles.append(fp)\n",
    "\t\t\t\tbreak\n",
    "\t#splits = []\n",
    "\t#for s in singles:\n",
    "\t#\ts = len(open(s).read().split('TER  '))\n",
    "\t#\tsplits.append(s)\n",
    "\t#print(set(splits))\n",
    "\treturn singles"
   ]
  },
  {
   "cell_type": "code",
   "execution_count": null,
   "metadata": {},
   "outputs": [],
   "source": [
    "def get_residue_pairs():\n",
    "\t'''\n",
    "\tGets antibody-antigen residue pairs according to some distance d.\n",
    "\tConsiders only CA atoms.\n",
    "\t'''\n",
    "\tfile_paths = get_single_antigens()\n",
    "\ttop15s = 'distance,agresname,agchain,agresnum,abresname,abchain,abresnum,name\\n' \n",
    "\tfor fp in file_paths[:]:\n",
    "\t\tparts = open(fp).read().split('TER  ')\n",
    "\t\tantigen = parts[-2]\n",
    "\t\tantigen = [line for line in antigen.split('\\n') if 'CA' in line[12:16] and line.startswith('ATOM')]\n",
    "\t\tantibody = parts[0] + parts[1]\n",
    "\t\tantibody = [line for line in antibody.split('\\n') if 'CA' in line[12:16] and line.startswith('ATOM')]\n",
    "\t\tmin_pairs = []\n",
    "\t\tsample_name = fp.split('/')[-1].split('.')[0]\n",
    "\t\tfor ag in antigen:\n",
    "\t\t\tmin_pair = [] # nearest pair\n",
    "\t\t\tag_c = np.array([ag[30:38], ag[38:46], ag[46:54]], dtype='float16')\n",
    "\t\t\tag_inf = [ag[17:20], ag[21], ag[22:26]]\n",
    "\t\t\tmin_d = 1000\n",
    "\t\t\tfor ab in antibody:\n",
    "\t\t\t\tab_c = np.array([ab[30:38], ab[38:46], ab[46:54]], dtype='float16')\n",
    "\t\t\t\td = np.sqrt(np.sum((ag_c-ab_c)**2))\n",
    "\t\t\t\tif d < min_d:\n",
    "\t\t\t\t\tmin_d = [d]\n",
    "\t\t\t\t\tab_inf = [ab[17:20], ab[21], ab[22:26]]\n",
    "\t\t\t\t\tmin_pair = [d] + ag_inf + ab_inf + [sample_name]\n",
    "\t\t\tmin_pairs.append(min_pair)\n",
    "\t\ttop15 = sorted(sorted(min_pairs)[:15], key = lambda item: item[3])\n",
    "\t\tjoined = ''\n",
    "\t\tfor t in top15:\n",
    "\t\t\tt = ','.join([str(item).strip() for item in t]) + '\\n'\n",
    "\t\t\tjoined += t\n",
    "\t\t#joined += 'TER\\n'\n",
    "\t\ttop15s += joined\n",
    "\toutpath = 'abdb_outfiles/respair.csv'\n",
    "\toutfile = open(outpath, 'w')\n",
    "\toutfile.write(top15s)\n",
    "\toutfile.close()"
   ]
  },
  {
   "cell_type": "code",
   "execution_count": null,
   "metadata": {},
   "outputs": [],
   "source": [
    "def get_residue_pairs_ab():\n",
    "\t'''\n",
    "\tGets antibody-antigen residue pairs according to some distance d.\n",
    "\tConsiders only CA atoms.\n",
    "\titerates over antibodies\n",
    "\t'''\n",
    "\tfile_paths = get_single_antigens()\n",
    "\ttop15s = 'distance,abresname,abchain,abresnum,agresname,agchain,agresnum,name\\n' \n",
    "\tfor fp in file_paths[:]:\n",
    "\t\tparts = open(fp).read().split('TER  ')\n",
    "\t\tantigen = parts[-2]\n",
    "\t\tantigen = [line for line in antigen.split('\\n') if 'CA' in line[12:16] and line.startswith('ATOM')]\n",
    "\t\tantibody = parts[0] + parts[1]\n",
    "\t\tantibody = [line for line in antibody.split('\\n') if 'CA' in line[12:16] and line.startswith('ATOM')]\n",
    "\t\tmin_pairs = []\n",
    "\t\tsample_name = fp.split('/')[-1].split('.')[0]\n",
    "\t\tfor ag in antibody: #use antibody here\n",
    "\t\t\tmin_pair = [] # nearest pair\n",
    "\t\t\tag_c = np.array([ag[30:38], ag[38:46], ag[46:54]], dtype='float16')\n",
    "\t\t\tag_inf = [ag[17:20], ag[21], ag[22:26]]\n",
    "\t\t\tmin_d = 1000\n",
    "\t\t\tfor ab in antigen: # use antigen here\n",
    "\t\t\t\tab_c = np.array([ab[30:38], ab[38:46], ab[46:54]], dtype='float16')\n",
    "\t\t\t\td = np.sqrt(np.sum((ag_c-ab_c)**2))\n",
    "\t\t\t\tif d < min_d:\n",
    "\t\t\t\t\tmin_d = [d]\n",
    "\t\t\t\t\tab_inf = [ab[17:20], ab[21], ab[22:26]]\n",
    "\t\t\t\t\tmin_pair = [d] + ag_inf + ab_inf + [sample_name]\n",
    "\t\t\tmin_pairs.append(min_pair)\n",
    "\t\ttop15 = sorted(sorted(min_pairs)[:15], key = lambda item: item[3])\n",
    "\t\tjoined = ''\n",
    "\t\tfor t in top15:\n",
    "\t\t\tt = ','.join([str(item).strip() for item in t]) + '\\n'\n",
    "\t\t\tjoined += t\n",
    "\t\t#joined += 'TER\\n'\n",
    "\t\ttop15s += joined\n",
    "\toutpath = 'abdb_outfiles/respair_ab_top15.csv'\n",
    "\toutfile = open(outpath, 'w')\n",
    "\toutfile.write(top15s)\n",
    "\toutfile.close()"
   ]
  },
  {
   "cell_type": "code",
   "execution_count": null,
   "metadata": {},
   "outputs": [],
   "source": [
    "def lh_counts():\n",
    "\t'''\n",
    "\tChecks light and heavy chain counts\n",
    "\t'''\n",
    "\tsamples = open('abdb_outfiles/respair.csv').read().split('TER')\n",
    "\tH = 0\n",
    "\tL = 0\n",
    "\tfor i, sample in enumerate(samples):\n",
    "\t\tresidues = sample.split()\n",
    "\t\tfor r in residues:\n",
    "\t\t\tr = r.split(',')\n",
    "\t\t\tif r[5] == 'H':\n",
    "\t\t\t\tH += 1\n",
    "\t\t\telif r[5] == 'L':\n",
    "\t\t\t\tL += 1\n",
    "\thfrac = float(H)/sum([H,L])\n",
    "\tlfrac = float(L)/sum([H,L])\n",
    "\tx = ['H', 'L']\n",
    "\ty = [H,L]\n",
    "\tsns.barplot(x,y)\n",
    "\tplt.title('Residues in heavy and light chains')\n",
    "\tplt.xlabel('Chain')\n",
    "\tplt.ylabel('Count')\n",
    "\tfilename = 'abdb_figures/hl.pdf'\n",
    "\tplt.savefig(filename)\n",
    "\tos.system('open %s' % filename)\n",
    "\t#print(help(sns.barplot))\t\n",
    "\treturn H, L"
   ]
  },
  {
   "cell_type": "code",
   "execution_count": null,
   "metadata": {},
   "outputs": [],
   "source": [
    "def respair_exams(filepath):\n",
    "\t'''\n",
    "\tExamines respair.csv\n",
    "\tobs: 1/3 of epitope residues are in the light chain.\n",
    "\t\t   spatial distance is between 3-10 angstrom.\n",
    "\t'''\n",
    "\tfilename = filepath.split('/')[-1].split('.')[0]\n",
    "\tdataset = pd.read_csv(filepath)\n",
    "\tsns.set(style='ticks', palette='BuGn')\n",
    "\tsns.catplot(x='abchain', kind='count', data=dataset)\n",
    "\toutname = 'abdb_figures/%s_abchain_count.pdf' % filename\n",
    "\tplt.savefig(outname)\n",
    "\tos.system('open %s' % outname)\n",
    "\toutname2 = 'abdb_figures/%s_abchain_distance.pdf' % filename\n",
    "\tsns.catplot(x='abchain',y='distance', kind='box', data=dataset)\n",
    "\tplt.savefig(outname2)\n",
    "\tos.system('open %s' % outname2)\n",
    "\t\n",
    "\t"
   ]
  },
  {
   "cell_type": "code",
   "execution_count": null,
   "metadata": {},
   "outputs": [],
   "source": [
    "def positional_distance(filepath):\n",
    "\t'''\n",
    "\tPlots distance between positions\n",
    "\t'''\n",
    "\tfilename = filepath.split('/')[-1].split('.')[0]\n",
    "\t#infile = 'abdb_outfiles/respair.csv'\n",
    "\tdf = pd.read_csv(filepath)\n",
    "\tname_distance = df.xs(['name','agresnum','abresnum'],axis=1).values\n",
    "\tresnum_diffs = []\n",
    "\tfor i in range(len(name_distance)-1):\n",
    "\t\tif name_distance[i,0] == name_distance[i+1,0]:\n",
    "\t\t\tdiff = np.abs(name_distance[i,1:] - name_distance[i+1,1:])\n",
    "\t\t\tif diff[0] < 15:\n",
    "\t\t\t\tresnum_diffs.append(diff)\n",
    "\tresnum_diffs = pd.DataFrame(resnum_diffs, columns=['agdist','abdist'])\n",
    "\t#sns.set(style='ticks', palette = 'BuGn_d')\n",
    "\tsns.jointplot(x='agdist', y='abdist', data=resnum_diffs, kind='kde')\n",
    "\t#outname = 'abdb_figures/%s_agdist_abdist.pdf' % filename\n",
    "\t#plt.savefig(outname)\n",
    "\t#os.system('open %s' % outname)\n",
    "\t#print(help(df))"
   ]
  },
  {
   "cell_type": "code",
   "execution_count": null,
   "metadata": {},
   "outputs": [],
   "source": [
    "def get_h_epitope():\n",
    "\t'''\n",
    "\tFilters respair.csv for heavy chain epitopes. \n",
    "\t'''\n",
    "\tdf = pd.read_csv('abdb_outfiles/respair.csv')\n",
    "\t#print(dir(df))\n",
    "\tfilepath = 'abdb_outfiles/respair_h.csv'\n",
    "\tnewvalues=  []\n",
    "\tdf.to_csv(filepath)\n",
    "\tfor line in df.values:\n",
    "\t\tif line[5]  == 'H':\n",
    "\t\t\tnewvalues.append(line)\n",
    "\tnewdf = pd.DataFrame(newvalues, columns=df.columns.values)\n",
    "\tnewdf.to_csv(filepath, index=False)\n",
    "\t#plt.show()"
   ]
  },
  {
   "cell_type": "code",
   "execution_count": null,
   "metadata": {},
   "outputs": [],
   "source": [
    "def get_h_epitope_ab():\n",
    "\t'''\n",
    "\tFilters respair.csv for heavy chain epitopes. \n",
    "\t'''\n",
    "\tdf = pd.read_csv('abdb_outfiles/respair_ab_full.csv')\n",
    "\t#print(dir(df))\n",
    "\tfilepath = 'abdb_outfiles/respair_ab_full_h.csv'\n",
    "\tnewvalues=  []\n",
    "\tdf.to_csv(filepath)\n",
    "\tfor line in df.values:\n",
    "\t\tif line[2]  == 'H':\n",
    "\t\t\tnewvalues.append(line)\n",
    "\tnewdf = pd.DataFrame(newvalues, columns=df.columns.values)\n",
    "\tnewdf.to_csv(filepath, index=False)\n",
    "\t#plt.show()"
   ]
  },
  {
   "cell_type": "code",
   "execution_count": null,
   "metadata": {},
   "outputs": [],
   "source": [
    "def get_seq_pair():\n",
    "\t'''\n",
    "\tGets antibody-antigen sequence pairs\n",
    "\t'''\n",
    "\tinfile = 'abdb_outfiles/respair_ab_full_h.csv'\n",
    "\tdf = pd.read_csv(infile)\t\n",
    "\taafile = '../datasets/amino_acids/the_twenty.txt'\n",
    "\taacontent = open(aafile).read().splitlines()\n",
    "\taadict = dict((item.split()[1].upper(),item.split()[-1]) for item in aacontent)\n",
    "\tseqs = []\n",
    "\tsamples = {}\n",
    "\tvalues = df.values\n",
    "\tfor val in values:\n",
    "\t\tname = val[-1]\n",
    "\t\tagres = val[1]\n",
    "\t\tabres = val[4]\n",
    "\t\tprint(val)\n",
    "\t\tif name not in samples:\n",
    "\t\t\tsamples[name] = [aadict[agres], aadict[abres]]\n",
    "\t\telif name in samples:\n",
    "\t\t\tsamples[name][0] += aadict[agres]\n",
    "\t\t\tsamples[name][1] += aadict[abres]\n",
    "\t#print(samples.items())\n",
    "\ttodf = [[key] + val for key, val in samples.items()]\n",
    "\tnewdf = pd.DataFrame(todf, columns=['name','abseq','agseq'])\n",
    "\toutfile = infile.split('.')[0] + '_seqpair.' + infile.split('.')[-1]\n",
    "\tnewdf.to_csv(outfile, index=False)\n",
    "\t#print(help(pd.DataFrame))"
   ]
  },
  {
   "cell_type": "code",
   "execution_count": 31,
   "metadata": {},
   "outputs": [
    {
     "name": "stdout",
     "output_type": "stream",
     "text": [
      "{'CAF', 'CAV', 'CAT', 'CAH', 'CAA', 'CAK', 'CAL', 'CAN', 'CAQ', 'CAY', 'CAM', 'CAS', 'CAG', 'CAI'}\n",
      "690 690\n"
     ]
    },
    {
     "data": {
      "image/png": "[encoded data removed]",
      "text/plain": [
       "<Figure size 432x432 with 3 Axes>"
      ]
     },
     "metadata": {},
     "output_type": "display_data"
    }
   ],
   "source": [
    "def find_car():\n",
    "\t'''\n",
    "\tFinds CAR segment on a sequence\n",
    "\t'''\n",
    "\tinfile = 'abdb_outfiles/respair_ab_full_h_seqpair.csv'\n",
    "\tdf = pd.read_csv(infile)\n",
    "\trnums = [] # CAR start position\n",
    "\tlen_cars = [] # length of seq\n",
    "\tvariants = [] # CAR variants\n",
    "\ti_cars = []\n",
    "\tfor i,row in df.iterrows():\n",
    "\t\tn = len(row.abseq)\n",
    "\t\tfor rnum in range(n-2):\n",
    "\t\t\ttriplet = row.abseq[rnum:rnum+3]\n",
    "\t\t\tif triplet == 'CAR' and i not in i_cars:\n",
    "\t\t\t\trnums.append(rnum)\n",
    "\t\t\t\tlen_cars.append(n)\n",
    "\t\t\t\ti_cars.append(i)\n",
    "\tfor i, row in df.iterrows():\n",
    "\t\tif i not in i_cars:\n",
    "\t\t\tn = len(row.abseq)\n",
    "\t\t\tfor rnum in range(n-2):\n",
    "\t\t\t\ttriplet = row.abseq[rnum:rnum+3]\n",
    "\t\t\t\tif triplet.startswith('CA'):\n",
    "\t\t\t\t\trnums.append(rnum)\n",
    "\t\t\t\t\tlen_cars.append(n)\n",
    "\t\t\t\t\ti_cars.append(i)\n",
    "\t\t\t\t\tvariants.append(triplet)\n",
    "\tpltdf = pd.DataFrame({'car_start':rnums, 'seq_len': len_cars})\t\n",
    "\tprint(set(variants))\n",
    "\tprint(len(len_cars), len(rnums))\n",
    "\t#sns.distplot(rnums)\n",
    "\tsns.jointplot(x=pltdf.car_start, y=pltdf.seq_len, alpha=0.2)# kind='kde')\n",
    "\t#view_temp()\n",
    "\t#print(help(sns.distplot))\n",
    "find_car()"
   ]
  },
  {
   "cell_type": "markdown",
   "metadata": {},
   "source": [
    "the majority of car triplets are at the tail"
   ]
  },
  {
   "cell_type": "code",
   "execution_count": 3,
   "metadata": {},
   "outputs": [
    {
     "data": {
      "image/png": "[encoded data removed]",
      "text/plain": [
       "<Figure size 432x432 with 3 Axes>"
      ]
     },
     "metadata": {},
     "output_type": "display_data"
    }
   ],
   "source": [
    "def neighbor_gap():\n",
    "\t'''\n",
    "\tFinds the gap between residues\n",
    "\t'''\n",
    "\tinfile = 'abdb_outfiles/respair_ab_full_h.csv'\n",
    "\tdf = pd.read_csv(infile)\n",
    "\t#abdf = df.xs(['distance', 'abresnum', 'name'], axis=1)\n",
    "\t#abdf_1 = abdf.shift(-1)\n",
    "\t#distance_diff = abdf.distance - abdf_1.distance\n",
    "\t#print(abdf.distance)\t\n",
    "\t#print(help(df.xs))\n",
    "\tname_distance = df.xs(['name','agresnum','abresnum'],axis=1).values\n",
    "\tresnum_diffs = []\n",
    "\tfor i in range(len(name_distance)-1):\n",
    "\t\tif name_distance[i,0] == name_distance[i+1,0] and name_distance[i,2] > 80:\n",
    "\t\t\tdiff = np.abs(name_distance[i,1:] - name_distance[i+1,1:])\n",
    "\t\t\tif diff[0] < 10:\n",
    "\t\t\t\tresnum_diffs.append(diff)\n",
    "\tresnum_diffs = pd.DataFrame(resnum_diffs, columns=['agdist','abdist'])\n",
    "\t#sns.set(style='ticks', palette = 'BuGn_d')\n",
    "\tsns.jointplot(x='agdist', y='abdist', data=resnum_diffs, alpha=0.05)#, kind='kde')\n",
    "\t#view_temp()\n",
    "neighbor_gap()\n",
    "\t"
   ]
  },
  {
   "cell_type": "markdown",
   "metadata": {},
   "source": [
    "most neighbor residues are next to each other"
   ]
  },
  {
   "cell_type": "markdown",
   "metadata": {},
   "source": [
    "un stuff\n",
    "et_single_antigens()\n",
    "et_residue_pairs()\n",
    "h_counts()\n",
    "et_h_epitope()\n",
    "espair_exams('abdb_outfiles/respair.csv')\n",
    "ositional_distance('abdb_outfiles/respair.csv')\n",
    "et_residue_pairs_ab()\n",
    "et_seq_pair()\n",
    "et_h_epitope_ab()\n",
    "ind_car()\n",
    "neighbor_gap()"
   ]
  }
 ],
 "metadata": {
  "kernelspec": {
   "display_name": "Python 3",
   "language": "python",
   "name": "python3"
  },
  "language_info": {
   "codemirror_mode": {
    "name": "ipython",
    "version": 3
   },
   "file_extension": ".py",
   "mimetype": "text/x-python",
   "name": "python",
   "nbconvert_exporter": "python",
   "pygments_lexer": "ipython3",
   "version": "3.5.0"
  }
 },
 "nbformat": 4,
 "nbformat_minor": 2
}
